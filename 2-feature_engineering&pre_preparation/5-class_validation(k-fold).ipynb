{
 "cells": [
  {
   "metadata": {},
   "cell_type": "markdown",
   "source": [
    "# K-Fold\n",
    "a technique to use all our data to train and test our model"
   ],
   "id": "93dc2da69f342c5d"
  },
  {
   "metadata": {
    "ExecuteTime": {
     "end_time": "2025-05-14T16:20:03.664228Z",
     "start_time": "2025-05-14T16:20:03.661756Z"
    }
   },
   "cell_type": "code",
   "source": "import pandas as pd",
   "id": "68e50248742ca576",
   "outputs": [],
   "execution_count": 1
  },
  {
   "metadata": {
    "ExecuteTime": {
     "end_time": "2025-05-14T16:20:08.841192Z",
     "start_time": "2025-05-14T16:20:08.831348Z"
    }
   },
   "cell_type": "code",
   "source": "df = pd.read_csv('Advertising.csv')",
   "id": "be37a60d44823d85",
   "outputs": [],
   "execution_count": 2
  },
  {
   "metadata": {
    "ExecuteTime": {
     "end_time": "2025-05-14T16:20:10.697494Z",
     "start_time": "2025-05-14T16:20:10.642330Z"
    }
   },
   "cell_type": "code",
   "source": [
    "X = df.drop('sales', axis=1)\n",
    "y = df['sales']\n",
    "\n",
    "from sklearn.model_selection import train_test_split\n",
    "X_train, X_test, y_train, y_test = train_test_split(X, y, test_size=0.3, random_state=101)"
   ],
   "id": "b17a3cdc9560b9f6",
   "outputs": [],
   "execution_count": 3
  },
  {
   "metadata": {},
   "cell_type": "markdown",
   "source": [
    "# we use k-fold (class validation technique on our train data)\n",
    "# the evaluation part will be automatically done by k-fold and there is no need to divide our data into 3 portions"
   ],
   "id": "cd730867696bcfb3"
  },
  {
   "metadata": {
    "ExecuteTime": {
     "end_time": "2025-05-14T16:20:27.393687Z",
     "start_time": "2025-05-14T16:20:27.388008Z"
    }
   },
   "cell_type": "code",
   "source": [
    "from sklearn.preprocessing import StandardScaler\n",
    "scaler = StandardScaler()\n",
    "scaler.fit(X_train)\n",
    "X_train = scaler.transform(X_train)\n",
    "X_test = scaler.transform(X_test)"
   ],
   "id": "da0a2c89574eccc0",
   "outputs": [],
   "execution_count": 4
  },
  {
   "metadata": {
    "ExecuteTime": {
     "end_time": "2025-05-14T16:20:33.922584Z",
     "start_time": "2025-05-14T16:20:33.892688Z"
    }
   },
   "cell_type": "code",
   "source": [
    "from sklearn.linear_model import Ridge\n",
    "model = Ridge(alpha=100)\n",
    "\n",
    "# k-fold\n",
    "from sklearn.model_selection import cross_val_score\n",
    "# cross_val_score will run our model on our dataset like k-fold automatically(here is 5-fold)\n",
    "scores = cross_val_score(model, X_train, y_train, cv=5, scoring='neg_mean_squared_error')\n",
    "# it will divide our data to 5 portions and do the job(4 portion training and 1 test and other rounds...)\n",
    "# each time it compute an error and will add it to the list\n",
    "scores"
   ],
   "id": "50f7a5344c94ffd6",
   "outputs": [
    {
     "data": {
      "text/plain": [
       "array([ -9.32552967,  -4.9449624 , -11.39665242,  -7.0242106 ,\n",
       "        -8.38562723])"
      ]
     },
     "execution_count": 5,
     "metadata": {},
     "output_type": "execute_result"
    }
   ],
   "execution_count": 5
  },
  {
   "metadata": {
    "ExecuteTime": {
     "end_time": "2025-05-14T16:20:49.331166Z",
     "start_time": "2025-05-14T16:20:49.327899Z"
    }
   },
   "cell_type": "code",
   "source": [
    "# total error is the mean of that\n",
    "abs(scores.mean())"
   ],
   "id": "269f40a768081d03",
   "outputs": [
    {
     "data": {
      "text/plain": [
       "np.float64(8.215396464543607)"
      ]
     },
     "execution_count": 7,
     "metadata": {},
     "output_type": "execute_result"
    }
   ],
   "execution_count": 7
  },
  {
   "metadata": {
    "ExecuteTime": {
     "end_time": "2025-05-14T16:20:51.208469Z",
     "start_time": "2025-05-14T16:20:51.197671Z"
    }
   },
   "cell_type": "code",
   "source": [
    "# tuning the model\n",
    "model2 = Ridge(alpha=1)\n",
    "\n",
    "scores2 = cross_val_score(model2, X_train, y_train, cv=5, scoring='neg_mean_squared_error')\n",
    "abs(scores2).mean()"
   ],
   "id": "3b338ca1bd4b0f57",
   "outputs": [
    {
     "data": {
      "text/plain": [
       "np.float64(3.344839296530695)"
      ]
     },
     "execution_count": 8,
     "metadata": {},
     "output_type": "execute_result"
    }
   ],
   "execution_count": 8
  },
  {
   "metadata": {
    "ExecuteTime": {
     "end_time": "2025-05-14T16:20:58.889906Z",
     "start_time": "2025-05-14T16:20:58.885561Z"
    }
   },
   "cell_type": "code",
   "source": [
    "# to evaluate our model\n",
    "# we must fit X_train  first\n",
    "model2.fit(X_train, y_train)\n",
    "y_final = model2.predict(X_test)\n",
    "\n",
    "from sklearn.metrics import mean_squared_error\n",
    "mean_squared_error(y_test, y_final)"
   ],
   "id": "11666280be6c3afc",
   "outputs": [
    {
     "data": {
      "text/plain": [
       "2.319021579428752"
      ]
     },
     "execution_count": 9,
     "metadata": {},
     "output_type": "execute_result"
    }
   ],
   "execution_count": 9
  },
  {
   "metadata": {},
   "cell_type": "markdown",
   "source": "# using some other scoring...",
   "id": "41f9719c87fc9a25"
  },
  {
   "metadata": {
    "ExecuteTime": {
     "end_time": "2025-05-14T16:32:15.575847Z",
     "start_time": "2025-05-14T16:32:15.543011Z"
    }
   },
   "cell_type": "code",
   "source": [
    "from sklearn.model_selection import cross_validate\n",
    "\n",
    "model = Ridge(alpha=1)\n",
    "\n",
    "scores = cross_validate(model, X_train, y_train, cv=15, scoring=['neg_mean_squared_error', 'neg_mean_absolute_error'])\n",
    "scores"
   ],
   "id": "f54bd8ba2f726494",
   "outputs": [
    {
     "data": {
      "text/plain": [
       "{'fit_time': array([0.00172043, 0.00522566, 0.00077367, 0.00080252, 0.00064802,\n",
       "        0.00077271, 0.00062561, 0.00057292, 0.00053072, 0.00053334,\n",
       "        0.00057268, 0.00052428, 0.0005846 , 0.00055575, 0.00052166]),\n",
       " 'score_time': array([0.00260735, 0.00135469, 0.00074053, 0.00067616, 0.00059152,\n",
       "        0.00055957, 0.00055432, 0.00055838, 0.00053287, 0.00051379,\n",
       "        0.0005219 , 0.00051618, 0.00054026, 0.00052404, 0.00051355]),\n",
       " 'test_neg_mean_squared_error': array([ -1.93238105,  -4.61031075,  -1.90316345,  -2.69103093,\n",
       "         -1.08859315,  -1.65221882,  -3.26213661, -12.6807873 ,\n",
       "         -0.77379545,  -1.61436564,  -1.36887608,  -4.30298333,\n",
       "         -2.74585322,  -6.833069  ,  -2.28920924]),\n",
       " 'test_neg_mean_absolute_error': array([-1.13939928, -1.96517653, -1.19659645, -1.4228595 , -0.92451424,\n",
       "        -0.99534887, -1.32136674, -2.17159688, -0.65041865, -1.06441188,\n",
       "        -0.81701199, -1.69802359, -1.08321978, -2.10061901, -0.94654938])}"
      ]
     },
     "execution_count": 21,
     "metadata": {},
     "output_type": "execute_result"
    }
   ],
   "execution_count": 21
  },
  {
   "metadata": {
    "ExecuteTime": {
     "end_time": "2025-05-14T16:28:56.235317Z",
     "start_time": "2025-05-14T16:28:56.225979Z"
    }
   },
   "cell_type": "code",
   "source": [
    "# there are 15 rows (cv was 15)\n",
    "scores = pd.DataFrame(scores)\n",
    "scores"
   ],
   "id": "30fcfc16b8d0871d",
   "outputs": [
    {
     "data": {
      "text/plain": [
       "    fit_time  score_time  test_neg_mean_squared_error  \\\n",
       "0   0.001376    0.000729                    -1.932381   \n",
       "1   0.000649    0.000571                    -4.610311   \n",
       "2   0.000876    0.000579                    -1.903163   \n",
       "3   0.000687    0.000551                    -2.691031   \n",
       "4   0.000622    0.000600                    -1.088593   \n",
       "5   0.000776    0.000688                    -1.652219   \n",
       "6   0.000707    0.000617                    -3.262137   \n",
       "7   0.000673    0.000559                   -12.680787   \n",
       "8   0.000580    0.000528                    -0.773795   \n",
       "9   0.000605    0.000619                    -1.614366   \n",
       "10  0.000618    0.000556                    -1.368876   \n",
       "11  0.000575    0.000541                    -4.302983   \n",
       "12  0.000633    0.000550                    -2.745853   \n",
       "13  0.000567    0.000530                    -6.833069   \n",
       "14  0.000525    0.000531                    -2.289209   \n",
       "\n",
       "    test_neg_mean_absolute_error  \n",
       "0                      -1.139399  \n",
       "1                      -1.965177  \n",
       "2                      -1.196596  \n",
       "3                      -1.422859  \n",
       "4                      -0.924514  \n",
       "5                      -0.995349  \n",
       "6                      -1.321367  \n",
       "7                      -2.171597  \n",
       "8                      -0.650419  \n",
       "9                      -1.064412  \n",
       "10                     -0.817012  \n",
       "11                     -1.698024  \n",
       "12                     -1.083220  \n",
       "13                     -2.100619  \n",
       "14                     -0.946549  "
      ],
      "text/html": [
       "<div>\n",
       "<style scoped>\n",
       "    .dataframe tbody tr th:only-of-type {\n",
       "        vertical-align: middle;\n",
       "    }\n",
       "\n",
       "    .dataframe tbody tr th {\n",
       "        vertical-align: top;\n",
       "    }\n",
       "\n",
       "    .dataframe thead th {\n",
       "        text-align: right;\n",
       "    }\n",
       "</style>\n",
       "<table border=\"1\" class=\"dataframe\">\n",
       "  <thead>\n",
       "    <tr style=\"text-align: right;\">\n",
       "      <th></th>\n",
       "      <th>fit_time</th>\n",
       "      <th>score_time</th>\n",
       "      <th>test_neg_mean_squared_error</th>\n",
       "      <th>test_neg_mean_absolute_error</th>\n",
       "    </tr>\n",
       "  </thead>\n",
       "  <tbody>\n",
       "    <tr>\n",
       "      <th>0</th>\n",
       "      <td>0.001376</td>\n",
       "      <td>0.000729</td>\n",
       "      <td>-1.932381</td>\n",
       "      <td>-1.139399</td>\n",
       "    </tr>\n",
       "    <tr>\n",
       "      <th>1</th>\n",
       "      <td>0.000649</td>\n",
       "      <td>0.000571</td>\n",
       "      <td>-4.610311</td>\n",
       "      <td>-1.965177</td>\n",
       "    </tr>\n",
       "    <tr>\n",
       "      <th>2</th>\n",
       "      <td>0.000876</td>\n",
       "      <td>0.000579</td>\n",
       "      <td>-1.903163</td>\n",
       "      <td>-1.196596</td>\n",
       "    </tr>\n",
       "    <tr>\n",
       "      <th>3</th>\n",
       "      <td>0.000687</td>\n",
       "      <td>0.000551</td>\n",
       "      <td>-2.691031</td>\n",
       "      <td>-1.422859</td>\n",
       "    </tr>\n",
       "    <tr>\n",
       "      <th>4</th>\n",
       "      <td>0.000622</td>\n",
       "      <td>0.000600</td>\n",
       "      <td>-1.088593</td>\n",
       "      <td>-0.924514</td>\n",
       "    </tr>\n",
       "    <tr>\n",
       "      <th>5</th>\n",
       "      <td>0.000776</td>\n",
       "      <td>0.000688</td>\n",
       "      <td>-1.652219</td>\n",
       "      <td>-0.995349</td>\n",
       "    </tr>\n",
       "    <tr>\n",
       "      <th>6</th>\n",
       "      <td>0.000707</td>\n",
       "      <td>0.000617</td>\n",
       "      <td>-3.262137</td>\n",
       "      <td>-1.321367</td>\n",
       "    </tr>\n",
       "    <tr>\n",
       "      <th>7</th>\n",
       "      <td>0.000673</td>\n",
       "      <td>0.000559</td>\n",
       "      <td>-12.680787</td>\n",
       "      <td>-2.171597</td>\n",
       "    </tr>\n",
       "    <tr>\n",
       "      <th>8</th>\n",
       "      <td>0.000580</td>\n",
       "      <td>0.000528</td>\n",
       "      <td>-0.773795</td>\n",
       "      <td>-0.650419</td>\n",
       "    </tr>\n",
       "    <tr>\n",
       "      <th>9</th>\n",
       "      <td>0.000605</td>\n",
       "      <td>0.000619</td>\n",
       "      <td>-1.614366</td>\n",
       "      <td>-1.064412</td>\n",
       "    </tr>\n",
       "    <tr>\n",
       "      <th>10</th>\n",
       "      <td>0.000618</td>\n",
       "      <td>0.000556</td>\n",
       "      <td>-1.368876</td>\n",
       "      <td>-0.817012</td>\n",
       "    </tr>\n",
       "    <tr>\n",
       "      <th>11</th>\n",
       "      <td>0.000575</td>\n",
       "      <td>0.000541</td>\n",
       "      <td>-4.302983</td>\n",
       "      <td>-1.698024</td>\n",
       "    </tr>\n",
       "    <tr>\n",
       "      <th>12</th>\n",
       "      <td>0.000633</td>\n",
       "      <td>0.000550</td>\n",
       "      <td>-2.745853</td>\n",
       "      <td>-1.083220</td>\n",
       "    </tr>\n",
       "    <tr>\n",
       "      <th>13</th>\n",
       "      <td>0.000567</td>\n",
       "      <td>0.000530</td>\n",
       "      <td>-6.833069</td>\n",
       "      <td>-2.100619</td>\n",
       "    </tr>\n",
       "    <tr>\n",
       "      <th>14</th>\n",
       "      <td>0.000525</td>\n",
       "      <td>0.000531</td>\n",
       "      <td>-2.289209</td>\n",
       "      <td>-0.946549</td>\n",
       "    </tr>\n",
       "  </tbody>\n",
       "</table>\n",
       "</div>"
      ]
     },
     "execution_count": 18,
     "metadata": {},
     "output_type": "execute_result"
    }
   ],
   "execution_count": 18
  },
  {
   "metadata": {
    "ExecuteTime": {
     "end_time": "2025-05-14T16:28:58.258386Z",
     "start_time": "2025-05-14T16:28:58.252985Z"
    }
   },
   "cell_type": "code",
   "source": "scores.mean()",
   "id": "8bff14ec51ab94a2",
   "outputs": [
    {
     "data": {
      "text/plain": [
       "fit_time                        0.000698\n",
       "score_time                      0.000583\n",
       "test_neg_mean_squared_error    -3.316585\n",
       "test_neg_mean_absolute_error   -1.299808\n",
       "dtype: float64"
      ]
     },
     "execution_count": 19,
     "metadata": {},
     "output_type": "execute_result"
    }
   ],
   "execution_count": 19
  },
  {
   "metadata": {
    "ExecuteTime": {
     "end_time": "2025-05-14T16:29:45.194935Z",
     "start_time": "2025-05-14T16:29:45.188261Z"
    }
   },
   "cell_type": "code",
   "source": [
    "model.fit(X_train, y_train)\n",
    "y_final = model.predict(X_test)\n",
    "\n",
    "mean_squared_error(y_test, y_final)"
   ],
   "id": "d377af87cd68b10b",
   "outputs": [
    {
     "data": {
      "text/plain": [
       "2.319021579428752"
      ]
     },
     "execution_count": 20,
     "metadata": {},
     "output_type": "execute_result"
    }
   ],
   "execution_count": 20
  }
 ],
 "metadata": {
  "kernelspec": {
   "display_name": "Python 3",
   "language": "python",
   "name": "python3"
  },
  "language_info": {
   "codemirror_mode": {
    "name": "ipython",
    "version": 2
   },
   "file_extension": ".py",
   "mimetype": "text/x-python",
   "name": "python",
   "nbconvert_exporter": "python",
   "pygments_lexer": "ipython2",
   "version": "2.7.6"
  }
 },
 "nbformat": 4,
 "nbformat_minor": 5
}

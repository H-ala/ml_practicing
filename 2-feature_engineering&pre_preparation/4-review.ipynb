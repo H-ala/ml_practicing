{
 "cells": [
  {
   "cell_type": "code",
   "id": "initial_id",
   "metadata": {
    "collapsed": true,
    "ExecuteTime": {
     "end_time": "2025-05-14T15:54:53.147687Z",
     "start_time": "2025-05-14T15:54:53.145176Z"
    }
   },
   "source": [
    "import pandas as pd\n",
    "import numpy as np\n",
    "import matplotlib.pyplot as plt\n",
    "import seaborn as sns"
   ],
   "outputs": [],
   "execution_count": 2
  },
  {
   "metadata": {
    "ExecuteTime": {
     "end_time": "2025-05-14T15:54:53.186753Z",
     "start_time": "2025-05-14T15:54:53.165378Z"
    }
   },
   "cell_type": "code",
   "source": [
    "df = pd.read_csv('Advertising.csv')\n",
    "df.head()"
   ],
   "id": "64b2d51f9bcb84db",
   "outputs": [
    {
     "data": {
      "text/plain": [
       "      TV  radio  newspaper  sales\n",
       "0  230.1   37.8       69.2   22.1\n",
       "1   44.5   39.3       45.1   10.4\n",
       "2   17.2   45.9       69.3    9.3\n",
       "3  151.5   41.3       58.5   18.5\n",
       "4  180.8   10.8       58.4   12.9"
      ],
      "text/html": [
       "<div>\n",
       "<style scoped>\n",
       "    .dataframe tbody tr th:only-of-type {\n",
       "        vertical-align: middle;\n",
       "    }\n",
       "\n",
       "    .dataframe tbody tr th {\n",
       "        vertical-align: top;\n",
       "    }\n",
       "\n",
       "    .dataframe thead th {\n",
       "        text-align: right;\n",
       "    }\n",
       "</style>\n",
       "<table border=\"1\" class=\"dataframe\">\n",
       "  <thead>\n",
       "    <tr style=\"text-align: right;\">\n",
       "      <th></th>\n",
       "      <th>TV</th>\n",
       "      <th>radio</th>\n",
       "      <th>newspaper</th>\n",
       "      <th>sales</th>\n",
       "    </tr>\n",
       "  </thead>\n",
       "  <tbody>\n",
       "    <tr>\n",
       "      <th>0</th>\n",
       "      <td>230.1</td>\n",
       "      <td>37.8</td>\n",
       "      <td>69.2</td>\n",
       "      <td>22.1</td>\n",
       "    </tr>\n",
       "    <tr>\n",
       "      <th>1</th>\n",
       "      <td>44.5</td>\n",
       "      <td>39.3</td>\n",
       "      <td>45.1</td>\n",
       "      <td>10.4</td>\n",
       "    </tr>\n",
       "    <tr>\n",
       "      <th>2</th>\n",
       "      <td>17.2</td>\n",
       "      <td>45.9</td>\n",
       "      <td>69.3</td>\n",
       "      <td>9.3</td>\n",
       "    </tr>\n",
       "    <tr>\n",
       "      <th>3</th>\n",
       "      <td>151.5</td>\n",
       "      <td>41.3</td>\n",
       "      <td>58.5</td>\n",
       "      <td>18.5</td>\n",
       "    </tr>\n",
       "    <tr>\n",
       "      <th>4</th>\n",
       "      <td>180.8</td>\n",
       "      <td>10.8</td>\n",
       "      <td>58.4</td>\n",
       "      <td>12.9</td>\n",
       "    </tr>\n",
       "  </tbody>\n",
       "</table>\n",
       "</div>"
      ]
     },
     "execution_count": 3,
     "metadata": {},
     "output_type": "execute_result"
    }
   ],
   "execution_count": 3
  },
  {
   "metadata": {},
   "cell_type": "markdown",
   "source": [
    "Train | Test Split Procedure\n",
    "1. Clean and Adjust data as necessary for X and y\n",
    "2. Split data in Train | Test for both X and y\n",
    "3. Fit/Train Scaler on Training\n",
    "4. Scale X Test Data\n",
    "5. Create Model\n",
    "6. Fit/Train Model on X Train Data\n",
    "7. Evaluate Model on X Data (by creating prediction and comparing to Y_test)\n",
    "8. Adjust Parameters as Necassary and repeat steps 5 and 6"
   ],
   "id": "81290b144dfb4266"
  },
  {
   "metadata": {
    "ExecuteTime": {
     "end_time": "2025-05-14T15:54:53.235445Z",
     "start_time": "2025-05-14T15:54:53.229610Z"
    }
   },
   "cell_type": "code",
   "source": [
    "# step 1\n",
    "X = df.drop('sales', axis=1)\n",
    "y = df['sales']"
   ],
   "id": "964b6657f55268dc",
   "outputs": [],
   "execution_count": 4
  },
  {
   "metadata": {
    "ExecuteTime": {
     "end_time": "2025-05-14T15:54:53.486621Z",
     "start_time": "2025-05-14T15:54:53.284894Z"
    }
   },
   "cell_type": "code",
   "source": [
    "# step 2\n",
    "from sklearn.model_selection import train_test_split\n",
    "X_train, X_test, y_train, y_test = train_test_split(X, y, test_size=0.3, random_state=101)"
   ],
   "id": "b654b974a8893499",
   "outputs": [],
   "execution_count": 5
  },
  {
   "metadata": {
    "ExecuteTime": {
     "end_time": "2025-05-14T15:54:53.523228Z",
     "start_time": "2025-05-14T15:54:53.519414Z"
    }
   },
   "cell_type": "code",
   "source": [
    "# step 3 and 4\n",
    "from sklearn.preprocessing import StandardScaler\n",
    "scaler = StandardScaler()\n",
    "scaler.fit(X_train)\n",
    "X_train = scaler.transform(X_train)\n",
    "X_test = scaler.transform(X_test) # we would't train X_test so as we wouldn't have data linkage"
   ],
   "id": "d9cb06f3c87a9d05",
   "outputs": [],
   "execution_count": 6
  },
  {
   "metadata": {
    "ExecuteTime": {
     "end_time": "2025-05-14T15:54:53.602190Z",
     "start_time": "2025-05-14T15:54:53.538697Z"
    }
   },
   "cell_type": "code",
   "source": [
    "# step 5 and 6\n",
    "from sklearn.linear_model import Ridge\n",
    "model = Ridge(alpha=100)\n",
    "model.fit(X_train, y_train)\n",
    "y_pred = model.predict(X_test)"
   ],
   "id": "d27a62691e296fa2",
   "outputs": [],
   "execution_count": 7
  },
  {
   "metadata": {
    "ExecuteTime": {
     "end_time": "2025-05-14T15:54:53.637824Z",
     "start_time": "2025-05-14T15:54:53.633397Z"
    }
   },
   "cell_type": "code",
   "source": [
    "# step 7\n",
    "from sklearn.metrics import mean_squared_error\n",
    "mean_squared_error(y_test, y_pred)"
   ],
   "id": "176764910c6030da",
   "outputs": [
    {
     "data": {
      "text/plain": [
       "7.34177578903413"
      ]
     },
     "execution_count": 8,
     "metadata": {},
     "output_type": "execute_result"
    }
   ],
   "execution_count": 8
  },
  {
   "metadata": {
    "ExecuteTime": {
     "end_time": "2025-05-14T15:54:53.698872Z",
     "start_time": "2025-05-14T15:54:53.693668Z"
    }
   },
   "cell_type": "code",
   "source": [
    "# step 8\n",
    "model2 = Ridge(alpha=1)\n",
    "model2.fit(X_train, y_train)\n",
    "y_pred2 = model2.predict(X_test)\n",
    "mean_squared_error(y_test, y_pred2)"
   ],
   "id": "d4c20a00934bf286",
   "outputs": [
    {
     "data": {
      "text/plain": [
       "2.319021579428752"
      ]
     },
     "execution_count": 9,
     "metadata": {},
     "output_type": "execute_result"
    }
   ],
   "execution_count": 9
  },
  {
   "metadata": {},
   "cell_type": "markdown",
   "source": [
    "# we don't want to manually change alpha\n",
    "# algorithm must find the best alpha on their own, hence we must use a new version of train | test split technique\n",
    "# also in tuning the data with new alpha we have a previous knowledge of our data and it makes our model biased"
   ],
   "id": "440a3e1c31598047"
  },
  {
   "metadata": {},
   "cell_type": "markdown",
   "source": [
    "# we must split our data in 3 portions\n",
    "1. train\n",
    "2. validate\n",
    "3. test"
   ],
   "id": "e4d502d79923b213"
  },
  {
   "metadata": {
    "ExecuteTime": {
     "end_time": "2025-05-14T15:54:53.754169Z",
     "start_time": "2025-05-14T15:54:53.745671Z"
    }
   },
   "cell_type": "code",
   "source": [
    "X = df.drop('sales', axis=1)\n",
    "y = df['sales']\n",
    "from sklearn.model_selection import train_test_split\n",
    "X_train, X_other, y_train, y_other = train_test_split(X, y, test_size=0.3, random_state=101)\n",
    "X_eval, X_test, y_eval, y_test = train_test_split(X_other, y_other, test_size=0.5, random_state=101)"
   ],
   "id": "76b5d9ad7976b0c5",
   "outputs": [],
   "execution_count": 10
  },
  {
   "metadata": {
    "ExecuteTime": {
     "end_time": "2025-05-14T15:55:56.722757Z",
     "start_time": "2025-05-14T15:55:56.718210Z"
    }
   },
   "cell_type": "code",
   "source": [
    "print(len(X))\n",
    "print(len(X_train))\n",
    "print(len(X_eval))\n",
    "print(len(X_test))"
   ],
   "id": "72b7e5cfb6ab9803",
   "outputs": [
    {
     "name": "stdout",
     "output_type": "stream",
     "text": [
      "200\n",
      "140\n",
      "30\n",
      "30\n"
     ]
    }
   ],
   "execution_count": 18
  },
  {
   "metadata": {
    "ExecuteTime": {
     "end_time": "2025-05-14T15:54:53.861637Z",
     "start_time": "2025-05-14T15:54:53.856740Z"
    }
   },
   "cell_type": "code",
   "source": [
    "from sklearn.preprocessing import StandardScaler\n",
    "scaler = StandardScaler()\n",
    "scaler.fit(X_train)\n",
    "X_train = scaler.transform(X_train)\n",
    "X_eval = scaler.transform(X_eval)\n",
    "X_test = scaler.transform(X_test)"
   ],
   "id": "1d90f66ac31f7aa2",
   "outputs": [],
   "execution_count": 12
  },
  {
   "metadata": {
    "ExecuteTime": {
     "end_time": "2025-05-14T15:54:53.946694Z",
     "start_time": "2025-05-14T15:54:53.942535Z"
    }
   },
   "cell_type": "code",
   "source": [
    "from sklearn.linear_model import Ridge\n",
    "model = Ridge(alpha=100)\n",
    "model.fit(X_train, y_train)\n",
    "y_eval_pred = model.predict(X_eval)"
   ],
   "id": "46ccc97eec9fbee7",
   "outputs": [],
   "execution_count": 13
  },
  {
   "metadata": {
    "ExecuteTime": {
     "end_time": "2025-05-14T15:54:54.017470Z",
     "start_time": "2025-05-14T15:54:54.014182Z"
    }
   },
   "cell_type": "code",
   "source": [
    "from sklearn.metrics import mean_squared_error\n",
    "mean_squared_error(y_eval, y_eval_pred)"
   ],
   "id": "dc5e9a279c5f08c3",
   "outputs": [
    {
     "data": {
      "text/plain": [
       "7.320101458823871"
      ]
     },
     "execution_count": 14,
     "metadata": {},
     "output_type": "execute_result"
    }
   ],
   "execution_count": 14
  },
  {
   "metadata": {
    "ExecuteTime": {
     "end_time": "2025-05-14T15:54:54.073443Z",
     "start_time": "2025-05-14T15:54:54.068319Z"
    }
   },
   "cell_type": "code",
   "source": [
    "# tuning the model\n",
    "model2 = Ridge(alpha=1)\n",
    "model2.fit(X_train, y_train)\n",
    "y_eval_pred = model2.predict(X_eval)\n",
    "\n",
    "mean_squared_error(y_eval, y_eval_pred)"
   ],
   "id": "87d7fb37a08024c0",
   "outputs": [
    {
     "data": {
      "text/plain": [
       "2.383783075056986"
      ]
     },
     "execution_count": 15,
     "metadata": {},
     "output_type": "execute_result"
    }
   ],
   "execution_count": 15
  },
  {
   "metadata": {
    "ExecuteTime": {
     "end_time": "2025-05-14T15:54:54.148414Z",
     "start_time": "2025-05-14T15:54:54.143710Z"
    }
   },
   "cell_type": "code",
   "source": [
    "y_final = model2.predict(X_test)\n",
    "mean_squared_error(y_test , y_final)"
   ],
   "id": "e773c1720007fafc",
   "outputs": [
    {
     "data": {
      "text/plain": [
       "2.2542600838005176"
      ]
     },
     "execution_count": 16,
     "metadata": {},
     "output_type": "execute_result"
    }
   ],
   "execution_count": 16
  }
 ],
 "metadata": {
  "kernelspec": {
   "display_name": "Python 3",
   "language": "python",
   "name": "python3"
  },
  "language_info": {
   "codemirror_mode": {
    "name": "ipython",
    "version": 2
   },
   "file_extension": ".py",
   "mimetype": "text/x-python",
   "name": "python",
   "nbconvert_exporter": "python",
   "pygments_lexer": "ipython2",
   "version": "2.7.6"
  }
 },
 "nbformat": 4,
 "nbformat_minor": 5
}

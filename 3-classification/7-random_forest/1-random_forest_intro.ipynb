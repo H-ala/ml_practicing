{
 "cells": [
  {
   "cell_type": "markdown",
   "id": "f4bfe8ce",
   "metadata": {},
   "source": [
    "# Random Forest is an improved version of Descision Tree algorithm\n",
    "it is used both in classification and regression\n",
    "</br>\n",
    "descion tree has a weakness which is not using all the features and puting 0 for their coefs\n",
    "</br>\n",
    "and the other is that root node is always fixed and can't be changed "
   ]
  },
  {
   "cell_type": "markdown",
   "id": "91dc24c4",
   "metadata": {},
   "source": [
    "# random forest uses features in random ways and by this technique it creates a lot of trees using all the features\n",
    "in classification all the result would be checked and the dominant label would be choose \n",
    "</br>\n",
    "in regrssion it would compute mean on all the results"
   ]
  },
  {
   "cell_type": "code",
   "execution_count": null,
   "id": "fa65382b",
   "metadata": {},
   "outputs": [],
   "source": [
    "# Number of Estimator --> how many tree to create>\n",
    "# it doesn't matter if it is a lot. our model won't be over fitted and the computition is also fast\n",
    "# the recommended range is 64-128\n",
    "\n",
    "\n",
    "# Number of Feature --> how many column to be choose randomly? \n",
    "# we must use this formula $ sqrt(N) $ N = total columns or Log2(N+1) for classification \n",
    "# for regression N/3\n",
    "\n",
    "\n",
    "# Bootstrap Samples --> rows also would be choose randomly(one row can be choose multiple times)\n",
    "\n",
    "# Out-of-Bag(Bootstrap aggrigated) Error --> rows that havn't been chosen in 'Bootstrap Samples' will be used to test the tree"
   ]
  },
  {
   "cell_type": "code",
   "execution_count": 1,
   "id": "f7e2e05d",
   "metadata": {},
   "outputs": [],
   "source": [
    "import numpy as np\n",
    "import matplotlib.pyplot as plt\n",
    "import pandas as pd\n",
    "import seaborn as sns"
   ]
  },
  {
   "cell_type": "code",
   "execution_count": 3,
   "id": "5b5dc52a",
   "metadata": {},
   "outputs": [
    {
     "name": "stdout",
     "output_type": "stream",
     "text": [
      "(344, 7)\n"
     ]
    },
    {
     "data": {
      "text/html": [
       "<div>\n",
       "<style scoped>\n",
       "    .dataframe tbody tr th:only-of-type {\n",
       "        vertical-align: middle;\n",
       "    }\n",
       "\n",
       "    .dataframe tbody tr th {\n",
       "        vertical-align: top;\n",
       "    }\n",
       "\n",
       "    .dataframe thead th {\n",
       "        text-align: right;\n",
       "    }\n",
       "</style>\n",
       "<table border=\"1\" class=\"dataframe\">\n",
       "  <thead>\n",
       "    <tr style=\"text-align: right;\">\n",
       "      <th></th>\n",
       "      <th>species</th>\n",
       "      <th>island</th>\n",
       "      <th>culmen_length_mm</th>\n",
       "      <th>culmen_depth_mm</th>\n",
       "      <th>flipper_length_mm</th>\n",
       "      <th>body_mass_g</th>\n",
       "      <th>sex</th>\n",
       "    </tr>\n",
       "  </thead>\n",
       "  <tbody>\n",
       "    <tr>\n",
       "      <th>0</th>\n",
       "      <td>Adelie</td>\n",
       "      <td>Torgersen</td>\n",
       "      <td>39.1</td>\n",
       "      <td>18.7</td>\n",
       "      <td>181.0</td>\n",
       "      <td>3750.0</td>\n",
       "      <td>MALE</td>\n",
       "    </tr>\n",
       "    <tr>\n",
       "      <th>1</th>\n",
       "      <td>Adelie</td>\n",
       "      <td>Torgersen</td>\n",
       "      <td>39.5</td>\n",
       "      <td>17.4</td>\n",
       "      <td>186.0</td>\n",
       "      <td>3800.0</td>\n",
       "      <td>FEMALE</td>\n",
       "    </tr>\n",
       "    <tr>\n",
       "      <th>2</th>\n",
       "      <td>Adelie</td>\n",
       "      <td>Torgersen</td>\n",
       "      <td>40.3</td>\n",
       "      <td>18.0</td>\n",
       "      <td>195.0</td>\n",
       "      <td>3250.0</td>\n",
       "      <td>FEMALE</td>\n",
       "    </tr>\n",
       "    <tr>\n",
       "      <th>3</th>\n",
       "      <td>Adelie</td>\n",
       "      <td>Torgersen</td>\n",
       "      <td>NaN</td>\n",
       "      <td>NaN</td>\n",
       "      <td>NaN</td>\n",
       "      <td>NaN</td>\n",
       "      <td>NaN</td>\n",
       "    </tr>\n",
       "    <tr>\n",
       "      <th>4</th>\n",
       "      <td>Adelie</td>\n",
       "      <td>Torgersen</td>\n",
       "      <td>36.7</td>\n",
       "      <td>19.3</td>\n",
       "      <td>193.0</td>\n",
       "      <td>3450.0</td>\n",
       "      <td>FEMALE</td>\n",
       "    </tr>\n",
       "  </tbody>\n",
       "</table>\n",
       "</div>"
      ],
      "text/plain": [
       "  species     island  culmen_length_mm  culmen_depth_mm  flipper_length_mm  \\\n",
       "0  Adelie  Torgersen              39.1             18.7              181.0   \n",
       "1  Adelie  Torgersen              39.5             17.4              186.0   \n",
       "2  Adelie  Torgersen              40.3             18.0              195.0   \n",
       "3  Adelie  Torgersen               NaN              NaN                NaN   \n",
       "4  Adelie  Torgersen              36.7             19.3              193.0   \n",
       "\n",
       "   body_mass_g     sex  \n",
       "0       3750.0    MALE  \n",
       "1       3800.0  FEMALE  \n",
       "2       3250.0  FEMALE  \n",
       "3          NaN     NaN  \n",
       "4       3450.0  FEMALE  "
      ]
     },
     "execution_count": 3,
     "metadata": {},
     "output_type": "execute_result"
    }
   ],
   "source": [
    "df = pd.read_csv('penguins_size.csv')\n",
    "print(df.shape)\n",
    "df.head()"
   ]
  },
  {
   "cell_type": "code",
   "execution_count": null,
   "id": "f1d23b7f",
   "metadata": {},
   "outputs": [],
   "source": [
    "# omitting nulls\n",
    "\n",
    "df.dropna(inplace=True) "
   ]
  },
  {
   "cell_type": "code",
   "execution_count": 7,
   "id": "4ee6ea03",
   "metadata": {},
   "outputs": [],
   "source": [
    "df.at[336, 'sex'] = 'FEMALE'  # go to index 336 and sex column and change the value"
   ]
  },
  {
   "cell_type": "code",
   "execution_count": null,
   "id": "98cddb33",
   "metadata": {},
   "outputs": [],
   "source": [
    "# change object columns to number except 'species' column(we dropped it)\n",
    "\n",
    "X = pd.get_dummies(df.drop('species', axis=1), dtype=int, drop_first=True)\n",
    "y = df['species']"
   ]
  },
  {
   "cell_type": "code",
   "execution_count": null,
   "id": "81333b78",
   "metadata": {},
   "outputs": [],
   "source": [
    "# Train and Split\n",
    "\n",
    "from sklearn.model_selection import train_test_split\n",
    "X_train, X_test, y_train, y_test = train_test_split(X, y, test_size=0.3, random_state=101)"
   ]
  },
  {
   "cell_type": "code",
   "execution_count": null,
   "id": "5d061d56",
   "metadata": {},
   "outputs": [],
   "source": [
    "# Create Model\n",
    "\n",
    "from sklearn.ensemble import RandomForestClassifier\n",
    "rfc = RandomForestClassifier(n_estimators=100, max_features='sqrt', random_state=101) # since rf use random choosing we can use random_state\n",
    "rfc.fit(X_train, y_train)\n",
    "based_pred = rfc.predict(X_test)"
   ]
  },
  {
   "cell_type": "code",
   "execution_count": null,
   "id": "50d758c2",
   "metadata": {},
   "outputs": [
    {
     "name": "stdout",
     "output_type": "stream",
     "text": [
      "error is: 0.01980198019801982\n",
      "              precision    recall  f1-score   support\n",
      "\n",
      "      Adelie       0.98      0.98      0.98        41\n",
      "   Chinstrap       0.96      0.96      0.96        23\n",
      "      Gentoo       1.00      1.00      1.00        37\n",
      "\n",
      "    accuracy                           0.98       101\n",
      "   macro avg       0.98      0.98      0.98       101\n",
      "weighted avg       0.98      0.98      0.98       101\n",
      "\n"
     ]
    },
    {
     "data": {
      "image/png": "[encoded data removed]",
      "text/plain": [
       "<Figure size 640x480 with 2 Axes>"
      ]
     },
     "metadata": {},
     "output_type": "display_data"
    }
   ],
   "source": [
    "# Evaluation\n",
    "\n",
    "from sklearn.metrics import accuracy_score, classification_report, confusion_matrix\n",
    "accuracy = accuracy_score(y_test, based_pred)\n",
    "print(f'error is: {1 - accuracy}')\n",
    "print(classification_report(y_test, based_pred))\n",
    "\n",
    "cm = confusion_matrix(y_test, based_pred)\n",
    "sns.heatmap(cm, annot=True);\n"
   ]
  },
  {
   "cell_type": "code",
   "execution_count": 20,
   "id": "51dc93be",
   "metadata": {},
   "outputs": [
    {
     "data": {
      "text/plain": [
       "array([3.46584088e-01, 1.20150588e-01, 2.39262547e-01, 1.48533620e-01,\n",
       "       1.39253740e-01, 2.10550136e-05, 6.19436222e-03])"
      ]
     },
     "execution_count": 20,
     "metadata": {},
     "output_type": "execute_result"
    }
   ],
   "source": [
    "# no 0 coef and more features will be used to predict\n",
    "rfc.feature_importances_"
   ]
  },
  {
   "cell_type": "code",
   "execution_count": null,
   "id": "d70d3185",
   "metadata": {},
   "outputs": [],
   "source": [
    "['culmen_length_mm', 'culmen_depth_mm', 'flipper_length_mm',\n",
    "       'body_mass_g', 'island_Dream', 'island_Torgersen', 'sex_MALE']"
   ]
  }
 ],
 "metadata": {
  "kernelspec": {
   "display_name": "venv",
   "language": "python",
   "name": "python3"
  },
  "language_info": {
   "codemirror_mode": {
    "name": "ipython",
    "version": 3
   },
   "file_extension": ".py",
   "mimetype": "text/x-python",
   "name": "python",
   "nbconvert_exporter": "python",
   "pygments_lexer": "ipython3",
   "version": "3.12.3"
  }
 },
 "nbformat": 4,
 "nbformat_minor": 5
}
